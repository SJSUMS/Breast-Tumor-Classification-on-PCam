{
  "nbformat": 4,
  "nbformat_minor": 0,
  "metadata": {
    "accelerator": "GPU",
    "colab": {
      "name": "255PCam_mavis.ipynb",
      "provenance": [],
      "collapsed_sections": [],
      "include_colab_link": true
    },
    "kernelspec": {
      "display_name": "Python 3",
      "name": "python3"
    },
    "language_info": {
      "name": "python"
    }
  },
  "cells": [
    {
      "cell_type": "markdown",
      "metadata": {
        "id": "view-in-github",
        "colab_type": "text"
      },
      "source": [
        "<a href=\"https://colab.research.google.com/github/SJSUMS/PCam/blob/main/255PCam_mobileNetV2_mavis.ipynb\" target=\"_parent\"><img src=\"https://colab.research.google.com/assets/colab-badge.svg\" alt=\"Open In Colab\"/></a>"
      ]
    },
    {
      "cell_type": "code",
      "metadata": {
        "colab": {
          "base_uri": "https://localhost:8080/"
        },
        "id": "QjxI_bxOhyck",
        "outputId": "c0b04b30-abb7-4664-86db-d84662777347"
      },
      "source": [
        "from google.colab import drive\n",
        "drive.mount('/content/drive')"
      ],
      "execution_count": null,
      "outputs": [
        {
          "name": "stdout",
          "output_type": "stream",
          "text": [
            "Mounted at /content/drive\n"
          ]
        }
      ]
    },
    {
      "cell_type": "code",
      "metadata": {
        "id": "4UDVZny7tWXm"
      },
      "source": [
        "from tensorflow import keras\n",
        "import tensorflow as tf\n",
        "import tensorflow_datasets as tfds\n",
        "from tensorflow.keras.preprocessing import image\n",
        "from sklearn import preprocessing\n",
        "import pandas as pd\n",
        "import numpy as np\n",
        "import matplotlib.pyplot as plt\n",
        "import os, datetime, time\n",
        "\n",
        "path = '/content/drive/Shareddrives/data 255 Deep Learning/'"
      ],
      "execution_count": null,
      "outputs": []
    },
    {
      "cell_type": "markdown",
      "metadata": {
        "id": "HeMADgrNXlNj"
      },
      "source": [
        "## sample data\n",
        "\n",
        "testing set (30k) as our sample dataset for train/test/val sets."
      ]
    },
    {
      "cell_type": "code",
      "metadata": {
        "id": "oGj_2J3GSYK-"
      },
      "source": [
        "# load Pre-processed X and y (32768)\n",
        "from pickle import load\n",
        "X = load(open(path + 'data/X.pkl', 'rb'))\n",
        "y = load(open(path + 'data/y.pkl', 'rb'))"
      ],
      "execution_count": null,
      "outputs": []
    },
    {
      "cell_type": "code",
      "metadata": {
        "colab": {
          "base_uri": "https://localhost:8080/"
        },
        "id": "-imZjx7sRt_F",
        "outputId": "f3afda04-1a6e-41dc-a7ae-5897565b564e"
      },
      "source": [
        "print(y.shape)"
      ],
      "execution_count": null,
      "outputs": [
        {
          "output_type": "stream",
          "name": "stdout",
          "text": [
            "(32768, 2)\n"
          ]
        }
      ]
    },
    {
      "cell_type": "markdown",
      "metadata": {
        "id": "BrdeSwuAyybm"
      },
      "source": [
        "### split dataset\n",
        "\n",
        "* Training/Testing = 80/10\n",
        "* Validation = 5000 out of training"
      ]
    },
    {
      "cell_type": "code",
      "metadata": {
        "id": "mnNXGeSHxDx0"
      },
      "source": [
        "from sklearn.model_selection import train_test_split\n",
        "\n",
        "X_train, X_test, y_train, y_test = train_test_split(X, y, test_size=0.1)\n",
        "\n",
        "# reserve 5000 samples for validation\n",
        "X_val = X_train[-5000:]\n",
        "y_val = y_train[-5000:]\n",
        "X_train = X_train[:-5000]\n",
        "y_train = y_train[:-5000]"
      ],
      "execution_count": null,
      "outputs": []
    },
    {
      "cell_type": "code",
      "metadata": {
        "colab": {
          "base_uri": "https://localhost:8080/"
        },
        "id": "9LdRTjlyhUVN",
        "outputId": "2ed49aa6-f35a-4949-f1b4-d13e0e50de58"
      },
      "source": [
        "print(X_train.shape)\n",
        "print(y_train.shape)\n",
        "\n",
        "print(X_val.shape)\n",
        "print(y_val.shape)\n",
        "\n",
        "print(X_test.shape)\n",
        "print(y_test.shape)\n"
      ],
      "execution_count": null,
      "outputs": [
        {
          "output_type": "stream",
          "name": "stdout",
          "text": [
            "(24491, 96, 96, 3)\n",
            "(24491, 2)\n",
            "(5000, 96, 96, 3)\n",
            "(5000, 2)\n",
            "(3277, 96, 96, 3)\n",
            "(3277, 2)\n"
          ]
        }
      ]
    },
    {
      "cell_type": "markdown",
      "metadata": {
        "id": "-FxomIX83IAI"
      },
      "source": [
        "# MobileNet2"
      ]
    },
    {
      "cell_type": "code",
      "metadata": {
        "id": "5xPpg0oXwN1q"
      },
      "source": [
        "from tensorflow.keras.applications.mobilenet_v2 import MobileNetV2\n",
        "from tensorflow.keras.preprocessing import image\n",
        "from tensorflow.keras.applications.mobilenet_v2 import preprocess_input, decode_predictions\n",
        "from tensorflow.keras import callbacks, layers, Input\n",
        "from keras.models import Model\n",
        "from tensorflow.keras.models import Sequential"
      ],
      "execution_count": null,
      "outputs": []
    },
    {
      "cell_type": "markdown",
      "metadata": {
        "id": "zK3ZVdojC-iD"
      },
      "source": [
        "### MobileNetV2"
      ]
    },
    {
      "cell_type": "code",
      "metadata": {
        "id": "zr4HInXLGBeW"
      },
      "source": [
        "# pretrained mobeilNetV2 with imagenet weights\n",
        "def feature_extractor(inputs):\n",
        "  feature_extractor_layer = MobileNetV2(\n",
        "      input_shape = (96,96,3),\n",
        "      include_top = False,\n",
        "      weights='imagenet')(inputs)\n",
        "  return feature_extractor_layer"
      ],
      "execution_count": null,
      "outputs": []
    },
    {
      "cell_type": "code",
      "metadata": {
        "id": "Q60iDjoxpKkM"
      },
      "source": [
        "# classifier\n",
        "def classifier(inputs):\n",
        "  x = layers.GlobalAveragePooling2D()(inputs)\n",
        "  x = layers.Flatten()(x)\n",
        "  \n",
        "  # add 2 dense layers\n",
        "  x = layers.Dense(512, activation='relu')(x)\n",
        "  x = layers.Dense(128, activation='relu')(x)\n",
        "  \n",
        "  output = layers.Dense(2, activation='sigmoid')(x)\n",
        "  return output"
      ],
      "execution_count": null,
      "outputs": []
    },
    {
      "cell_type": "code",
      "metadata": {
        "id": "diB3ZPtWktnE"
      },
      "source": [
        "# build model\n",
        "def mobileNetVar(inputs):\n",
        "    \n",
        "  feature_mobileNet = feature_extractor(inputs)\n",
        "  class_output = classifier(feature_mobileNet)\n",
        "\n",
        "  model = Model(inputs=inputs, outputs=class_output, name='base_mobileNet')\n",
        "\n",
        "  # compile\n",
        "  model.compile(optimizer='adam', loss='binary_crossentropy', metrics=['accuracy'])\n",
        "  \n",
        "  return model"
      ],
      "execution_count": null,
      "outputs": []
    },
    {
      "cell_type": "code",
      "metadata": {
        "colab": {
          "base_uri": "https://localhost:8080/"
        },
        "id": "71yXqjXJktbn",
        "outputId": "44bfc54f-fd26-46be-f001-52017610887e"
      },
      "source": [
        "# define input layer\n",
        "inputs = Input(shape=(96,96,3))\n",
        "\n",
        "model = mobileNetVar(inputs)\n",
        "model.summary()"
      ],
      "execution_count": null,
      "outputs": [
        {
          "output_type": "stream",
          "name": "stdout",
          "text": [
            "Model: \"base_mobileNet\"\n",
            "_________________________________________________________________\n",
            " Layer (type)                Output Shape              Param #   \n",
            "=================================================================\n",
            " input_3 (InputLayer)        [(None, 96, 96, 3)]       0         \n",
            "                                                                 \n",
            " mobilenetv2_1.00_96 (Functi  (None, 3, 3, 1280)       2257984   \n",
            " onal)                                                           \n",
            "                                                                 \n",
            " global_average_pooling2d_1   (None, 1280)             0         \n",
            " (GlobalAveragePooling2D)                                        \n",
            "                                                                 \n",
            " flatten_1 (Flatten)         (None, 1280)              0         \n",
            "                                                                 \n",
            " dense_3 (Dense)             (None, 512)               655872    \n",
            "                                                                 \n",
            " dense_4 (Dense)             (None, 128)               65664     \n",
            "                                                                 \n",
            " dense_5 (Dense)             (None, 2)                 258       \n",
            "                                                                 \n",
            "=================================================================\n",
            "Total params: 2,979,778\n",
            "Trainable params: 2,945,666\n",
            "Non-trainable params: 34,112\n",
            "_________________________________________________________________\n"
          ]
        }
      ]
    },
    {
      "cell_type": "markdown",
      "metadata": {
        "id": "I-q5F0pIuR-z"
      },
      "source": [
        "#### Training"
      ]
    },
    {
      "cell_type": "code",
      "metadata": {
        "colab": {
          "base_uri": "https://localhost:8080/"
        },
        "id": "1lefTfGvoqgp",
        "outputId": "9ffb6458-a2d8-4862-8f8f-796277a15cdc"
      },
      "source": [
        "# checkpoints\n",
        "checkpoint_filepath = path + 'checkpoints'\n",
        "\n",
        "model_checkpoint_callback = callbacks.ModelCheckpoint(\n",
        "    filepath=checkpoint_filepath, \n",
        "    monitor='val_loss', \n",
        "    verbose=0, \n",
        "    save_best_only=True, \n",
        "    save_weights_only=True, \n",
        "    save_freq='epoch')\n",
        "\n",
        "# train\n",
        "ep = 20\n",
        "batch = 128\n",
        "\n",
        "start = time.time()\n",
        "# use validation set to validate\n",
        "hist = model.fit(X_train, y_train, batch_size=batch, epochs=ep, \n",
        "                 verbose = 1, validation_data=(X_val,y_val), shuffle=True, \n",
        "                 callbacks=[model_checkpoint_callback])\n",
        "stop = time.time()\n",
        "print(f\"Training time: {stop - start}s\")"
      ],
      "execution_count": null,
      "outputs": [
        {
          "output_type": "stream",
          "name": "stdout",
          "text": [
            "Epoch 1/20\n",
            "192/192 [==============================] - ETA: 0s - loss: 0.2483 - accuracy: 0.9020"
          ]
        }
      ]
    },
    {
      "cell_type": "code",
      "metadata": {
        "colab": {
          "base_uri": "https://localhost:8080/"
        },
        "id": "Wqu0P-n6r56h",
        "outputId": "bedffa91-98d1-4add-ab1c-d6b59b65348b"
      },
      "source": [
        "# evaluate model loss & accuracy on test set\n",
        "score = model.evaluate(X_test,y_test, batch_size=128)\n",
        "print(\"Test loss:\", score[0])\n",
        "print(\"Test accuracy:\", score[1])"
      ],
      "execution_count": null,
      "outputs": [
        {
          "output_type": "error",
          "ename": "NameError",
          "evalue": "ignored",
          "traceback": [
            "\u001b[0;31m---------------------------------------------------------------------------\u001b[0m",
            "\u001b[0;31mNameError\u001b[0m                                 Traceback (most recent call last)",
            "\u001b[0;32m<ipython-input-1-6803c97f353a>\u001b[0m in \u001b[0;36m<module>\u001b[0;34m()\u001b[0m\n\u001b[1;32m      1\u001b[0m \u001b[0;31m# evaluate model loss & accuracy on test set\u001b[0m\u001b[0;34m\u001b[0m\u001b[0;34m\u001b[0m\u001b[0;34m\u001b[0m\u001b[0m\n\u001b[0;32m----> 2\u001b[0;31m \u001b[0mscore\u001b[0m \u001b[0;34m=\u001b[0m \u001b[0mmodel\u001b[0m\u001b[0;34m.\u001b[0m\u001b[0mevaluate\u001b[0m\u001b[0;34m(\u001b[0m\u001b[0mX_test\u001b[0m\u001b[0;34m,\u001b[0m\u001b[0my_test\u001b[0m\u001b[0;34m,\u001b[0m \u001b[0mbatch_size\u001b[0m\u001b[0;34m=\u001b[0m\u001b[0;36m128\u001b[0m\u001b[0;34m)\u001b[0m\u001b[0;34m\u001b[0m\u001b[0;34m\u001b[0m\u001b[0m\n\u001b[0m\u001b[1;32m      3\u001b[0m \u001b[0mprint\u001b[0m\u001b[0;34m(\u001b[0m\u001b[0;34m\"Test loss:\"\u001b[0m\u001b[0;34m,\u001b[0m \u001b[0mscore\u001b[0m\u001b[0;34m[\u001b[0m\u001b[0;36m0\u001b[0m\u001b[0;34m]\u001b[0m\u001b[0;34m)\u001b[0m\u001b[0;34m\u001b[0m\u001b[0;34m\u001b[0m\u001b[0m\n\u001b[1;32m      4\u001b[0m \u001b[0mprint\u001b[0m\u001b[0;34m(\u001b[0m\u001b[0;34m\"Test accuracy:\"\u001b[0m\u001b[0;34m,\u001b[0m \u001b[0mscore\u001b[0m\u001b[0;34m[\u001b[0m\u001b[0;36m1\u001b[0m\u001b[0;34m]\u001b[0m\u001b[0;34m)\u001b[0m\u001b[0;34m\u001b[0m\u001b[0;34m\u001b[0m\u001b[0m\n",
            "\u001b[0;31mNameError\u001b[0m: name 'model' is not defined"
          ]
        }
      ]
    },
    {
      "cell_type": "code",
      "metadata": {
        "colab": {
          "base_uri": "https://localhost:8080/"
        },
        "id": "IPqzbPeb-Qmz",
        "outputId": "871b6b46-b6a9-4a4a-9921-eb18ce9fa630"
      },
      "source": [
        "from keras.models import load_model, save_model\n",
        "\n",
        "# save model\n",
        "model.save(path + \"models\")"
      ],
      "execution_count": null,
      "outputs": [
        {
          "name": "stdout",
          "output_type": "stream",
          "text": [
            "INFO:tensorflow:Assets written to: /content/drive/MyDrive/Colab Notebooks/PCam/models/assets\n"
          ]
        },
        {
          "name": "stderr",
          "output_type": "stream",
          "text": [
            "/usr/local/lib/python3.7/dist-packages/keras/engine/functional.py:1410: CustomMaskWarning: Custom mask layers require a config and must override get_config. When loading, the custom mask layer must be passed to the custom_objects argument.\n",
            "  layer_config = serialize_layer_fn(layer)\n",
            "/usr/local/lib/python3.7/dist-packages/keras/saving/saved_model/layer_serialization.py:112: CustomMaskWarning: Custom mask layers require a config and must override get_config. When loading, the custom mask layer must be passed to the custom_objects argument.\n",
            "  return generic_utils.serialize_keras_object(obj)\n"
          ]
        }
      ]
    },
    {
      "cell_type": "code",
      "metadata": {
        "id": "7LW3FRdAwrQ6"
      },
      "source": [
        ""
      ],
      "execution_count": null,
      "outputs": []
    }
  ]
}
