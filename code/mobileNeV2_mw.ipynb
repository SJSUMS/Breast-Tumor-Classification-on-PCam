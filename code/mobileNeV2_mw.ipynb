{
  "nbformat": 4,
  "nbformat_minor": 0,
  "metadata": {
    "accelerator": "GPU",
    "colab": {
      "name": "mobileNeV2_mw.ipynb",
      "provenance": [],
      "collapsed_sections": [],
      "toc_visible": true
    },
    "kernelspec": {
      "display_name": "Python 3 (ipykernel)",
      "language": "python",
      "name": "python3"
    },
    "language_info": {
      "codemirror_mode": {
        "name": "ipython",
        "version": 3
      },
      "file_extension": ".py",
      "mimetype": "text/x-python",
      "name": "python",
      "nbconvert_exporter": "python",
      "pygments_lexer": "ipython3",
      "version": "3.7.11"
    },
    "toc-autonumbering": true,
    "toc-showmarkdowntxt": false
  },
  "cells": [
    {
      "cell_type": "code",
      "metadata": {
        "colab": {
          "base_uri": "https://localhost:8080/"
        },
        "id": "Z-4qyJBKGkqg",
        "outputId": "39f662f8-f3d2-4d32-c414-f26d787cbca6"
      },
      "source": [
        "from google.colab import drive\n",
        "drive.mount('/content/drive')"
      ],
      "execution_count": null,
      "outputs": [
        {
          "output_type": "stream",
          "name": "stdout",
          "text": [
            "Drive already mounted at /content/drive; to attempt to forcibly remount, call drive.mount(\"/content/drive\", force_remount=True).\n"
          ]
        }
      ]
    },
    {
      "cell_type": "markdown",
      "metadata": {
        "id": "yjscJNlDoI0V",
        "tags": [],
        "toc-hr-collapsed": true
      },
      "source": [
        "# Data\n",
        "\n",
        "[PatchCamelyon](https://paperswithcode.com/dataset/pcam) is an image classification dataset. It consists of 327.680 color images (96 x 96px) extracted from histopathologic scans of lymph node sections. Each image is annotated with a binary label indicating presence of metastatic tissue. PCam provides a new benchmark for machine learning models: bigger than CIFAR10, smaller than ImageNet, trainable on a single GPU.\n"
      ]
    },
    {
      "cell_type": "code",
      "metadata": {
        "id": "4UDVZny7tWXm"
      },
      "source": [
        "import tensorflow_datasets as tfds\n",
        "from tensorflow.keras.preprocessing import image\n",
        "from tensorflow.keras.utils import to_categorical\n",
        "from sklearn import preprocessing\n",
        "from sklearn.model_selection import train_test_split\n",
        "import pandas as pd\n",
        "import numpy as np\n",
        "import matplotlib.pyplot as plt\n",
        "from tensorflow.keras.models import load_model\n",
        "import os, datetime, time\n",
        "\n",
        "import tensorflow as tf\n",
        "from tensorflow import keras\n",
        "from tensorflow.keras import Model\n",
        "from tensorflow.keras import Input \n",
        "from tensorflow.keras import callbacks, layers\n",
        "from tensorflow.keras.models import Sequential\n",
        "from tensorflow.keras.optimizers import Adam, Adamax, Nadam,Ftrl\n",
        "from keras.layers import Dense, Conv2D, LSTM, Attention, Flatten, GlobalAveragePooling2D\n",
        "from keras.layers import BatchNormalization, MaxPooling2D, Dropout\n",
        "from keras.layers import Reshape, UpSampling2D\n",
        "from tensorflow.keras.metrics import Accuracy,Precision,Recall,AUC\n",
        "\n",
        "from tensorflow.keras.models import Sequential\n",
        "from tensorflow.keras.layers import RandomRotation,RandomTranslation,RandomFlip,RandomContrast,Resizing\n",
        "\n",
        "path = '/content/drive/MyDrive/Colab Notebooks/PCam/'"
      ],
      "execution_count": null,
      "outputs": []
    },
    {
      "cell_type": "markdown",
      "metadata": {
        "id": "iB7KmkynUfPy"
      },
      "source": [
        "## Load the splited data"
      ]
    },
    {
      "cell_type": "code",
      "metadata": {
        "id": "-imZjx7sRt_F"
      },
      "source": [
        "# load our training data\n",
        "from pickle import load\n",
        "data = load(open(path + 'data/miniPcam_split.pkl', 'rb'))\n",
        "\n",
        "# unpack\n",
        "x_train, y_train, x_val, y_val, x_test, y_test = data.values()"
      ],
      "execution_count": null,
      "outputs": []
    },
    {
      "cell_type": "code",
      "metadata": {
        "colab": {
          "base_uri": "https://localhost:8080/"
        },
        "id": "vr2vR0AOJCeW",
        "outputId": "ff406bab-d9f1-476a-c69d-e900e66f09bd"
      },
      "source": [
        "y_train.shape"
      ],
      "execution_count": null,
      "outputs": [
        {
          "output_type": "execute_result",
          "data": {
            "text/plain": [
              "(19714, 2)"
            ]
          },
          "metadata": {},
          "execution_count": 163
        }
      ]
    },
    {
      "cell_type": "code",
      "metadata": {
        "colab": {
          "base_uri": "https://localhost:8080/"
        },
        "id": "2Pg7RDAvG4qm",
        "outputId": "b7cfc2e9-3344-45d7-b31c-cde1df50e695"
      },
      "source": [
        "# normal sample\n",
        "label_df = pd.DataFrame(y_train.reshape(-1,2))\n",
        "sum(label_df.iloc[:,0])"
      ],
      "execution_count": null,
      "outputs": [
        {
          "output_type": "execute_result",
          "data": {
            "text/plain": [
              "9774.0"
            ]
          },
          "metadata": {},
          "execution_count": 173
        }
      ]
    },
    {
      "cell_type": "code",
      "metadata": {
        "colab": {
          "base_uri": "https://localhost:8080/"
        },
        "id": "VeooIKJEKVez",
        "outputId": "48dfd82b-e269-4578-d6f9-587bd4180b50"
      },
      "source": [
        "# tumor sample\n",
        "label_df = pd.DataFrame(y_train.reshape(-1,2))\n",
        "sum(label_df.iloc[:,1])"
      ],
      "execution_count": null,
      "outputs": [
        {
          "output_type": "execute_result",
          "data": {
            "text/plain": [
              "9940.0"
            ]
          },
          "metadata": {},
          "execution_count": 174
        }
      ]
    },
    {
      "cell_type": "markdown",
      "metadata": {
        "id": "xjCJivJi3WWN"
      },
      "source": [
        "## generator / augmentation"
      ]
    },
    {
      "cell_type": "code",
      "metadata": {
        "id": "AH2Xtr_3tucd"
      },
      "source": [
        "batch_size = 64\n",
        "\n",
        "train_steps_per_epoch = len(x_train) // batch_size\n",
        "valid_steps_per_epoch = len(x_val) // batch_size\n",
        "\n",
        "# augmented & normalization\n",
        "train_datagen = image.ImageDataGenerator(rescale=1.0/255.0,\n",
        "                                         shear_range=0.2,\n",
        "                                         zoom_range=0.2,\n",
        "                                         rotation_range=45,\n",
        "                                         channel_shift_range=0.2,\n",
        "                                         horizontal_flip=True)\n",
        "# normaliziation only\n",
        "test_datagen = image.ImageDataGenerator(rescale=1.0/255.0)\n",
        "\n",
        "# data generator\n",
        "train_generator = train_datagen.flow(x_train, y_train, batch_size=batch_size)\n",
        "valid_generator = test_datagen.flow( x_val, y_val, batch_size=batch_size)\n",
        "test_generator = test_datagen.flow(x_test, y_test, batch_size=batch_size)"
      ],
      "execution_count": null,
      "outputs": []
    },
    {
      "cell_type": "code",
      "metadata": {
        "colab": {
          "base_uri": "https://localhost:8080/"
        },
        "id": "hiFCdT3j8qRC",
        "outputId": "6d351df3-1c1b-4bc8-cd24-77e4b7587505"
      },
      "source": [
        "# fist batch img, lable\n",
        "valid_generator.()"
      ],
      "execution_count": null,
      "outputs": [
        {
          "output_type": "execute_result",
          "data": {
            "text/plain": [
              "64"
            ]
          },
          "metadata": {},
          "execution_count": 99
        }
      ]
    },
    {
      "cell_type": "code",
      "metadata": {
        "colab": {
          "base_uri": "https://localhost:8080/"
        },
        "id": "9LdRTjlyhUVN",
        "outputId": "2baaabb9-a780-44a3-a65d-74d946a6430d"
      },
      "source": [
        "print(x_train.shape)\n",
        "print(y_train.shape)\n",
        "\n",
        "print(x_val.shape)\n",
        "print(y_val.shape)\n",
        "\n",
        "print(x_test.shape)\n",
        "print(y_test.shape)"
      ],
      "execution_count": null,
      "outputs": [
        {
          "output_type": "stream",
          "name": "stdout",
          "text": [
            "(19714, 96, 96, 3)\n",
            "(19714, 2)\n",
            "(6500, 96, 96, 3)\n",
            "(6500, 2)\n",
            "(6554, 96, 96, 3)\n",
            "(6554, 2)\n"
          ]
        }
      ]
    },
    {
      "cell_type": "markdown",
      "metadata": {
        "id": "l28iW8mx_662",
        "tags": []
      },
      "source": [
        "# MobileNetV2\n",
        "MobileNetV2 is very similar to the original MobileNet, except that it uses inverted residual blocks with bottlenecking features. It has a drastically lower parameter count than the original MobileNet. MobileNets support any input size greater than 32 x 32, with larger image sizes offering better performance.\n",
        "\n",
        "**Why MobileNet2**\n",
        "* memory efficient inference on device intelligence.\n",
        "* tradeoff between accuracy, computation, and siz of params.\n",
        "\n",
        "**Applications**\n",
        "* Classification\n",
        "* Object detection\n",
        "* Fine-grain classification\n",
        "* Face attributes\n",
        "* Large-scale geo-localization\n",
        "\n",
        "**Paper:** \n",
        "* [MobileNetV2: Inverted Residuals and Linear Bottlenecks](https://arxiv.org/abs/1801.04381)\n",
        "* [MobileNets: Efficient Convolutional Neural Networks for Mobile Vision](https://arxiv.org/pdf/1704.04861.pdf)"
      ]
    },
    {
      "cell_type": "markdown",
      "metadata": {
        "id": "HwCNWjJB6rJb"
      },
      "source": [
        "## Pipeline"
      ]
    },
    {
      "cell_type": "code",
      "metadata": {
        "id": "VeVuPxuWQeAc"
      },
      "source": [
        "n_epochs = 20\n",
        "\n",
        "def train_model(model):\n",
        "    start = time.time()\n",
        "    hist = model.fit(train_generator,\n",
        "                     epochs = n_epochs,\n",
        "                     verbose = 1, \n",
        "                     validation_data = valid_generator,\n",
        "                     steps_per_epoch = train_steps_per_epoch,\n",
        "                     validation_steps = valid_steps_per_epoch,\n",
        "                     shuffle = True,\n",
        "                     callbacks=callbacks)\n",
        "    stop = time.time()\n",
        "    training_time = stop - start\n",
        "    print(f'Total training time = {training_time}s')\n",
        "    return hist, model\n",
        "\n",
        "def eval_model(model):\n",
        "    score = model.evaluate(test_generator)\n",
        "    return score\n",
        "\n",
        "def plot_model(hist):\n",
        "    plt.plot(hist.history['loss'])\n",
        "    plt.plot(hist.history['val_loss'])\n",
        "    plt.plot()\n",
        "    plt.title('Loss')\n",
        "    plt.ylabel('loss')\n",
        "    plt.xlabel('epoch')\n",
        "    plt.legend(['train', 'validation'], loc='upper right')\n",
        "    plt.show()\n",
        "\n",
        "    plt.plot(hist.history['accuracy'])\n",
        "    plt.plot(hist.history['val_accuracy'])\n",
        "    plt.title('Accuracy')\n",
        "    plt.ylabel('accuracy')\n",
        "    plt.xlabel('epoch')\n",
        "    plt.legend(['train', 'valication'], loc='lower right')\n",
        "    plt.show()\n",
        "\n",
        "def run_all(model):\n",
        "    hist, model = train_model(model)\n",
        "    eval_model(model)\n",
        "    plot_model(hist)\n",
        "    return model"
      ],
      "execution_count": null,
      "outputs": []
    },
    {
      "cell_type": "markdown",
      "metadata": {
        "id": "lGhl22PjZanw",
        "tags": []
      },
      "source": [
        "## M0: mobileNet2NN (75%)\n",
        "\n",
        "Use mobileNetV2 as backbone"
      ]
    },
    {
      "cell_type": "code",
      "metadata": {
        "id": "PQr43JytdkIl"
      },
      "source": [
        "from tensorflow.keras.applications.mobilenet_v2 import MobileNetV2\n",
        "from tensorflow.keras.applications.mobilenet_v2 import preprocess_input, decode_predictions"
      ],
      "execution_count": null,
      "outputs": []
    },
    {
      "cell_type": "code",
      "metadata": {
        "colab": {
          "base_uri": "https://localhost:8080/",
          "height": 1000
        },
        "id": "hh5SP6QfpoG4",
        "tags": [],
        "outputId": "e227f0bd-043b-48d4-c481-5103445102a8"
      },
      "source": [
        "(IMG_W, IMG_H, IMG_C) = (96,96,3)\n",
        "\n",
        "# default config\n",
        "lr = 0.0001\n",
        "opt = Adam(learning_rate=lr)\n",
        "act = 'elu'\n",
        "loss = 'binary_crossentropy'\n",
        "metrics = ['accuracy',]\n",
        "n_epochs = 20\n",
        "\n",
        "# pretrained model\n",
        "def feature_extractor(inputs):\n",
        "  features = MobileNetV2(\n",
        "      input_shape = (IMG_W, IMG_H, IMG_C),\n",
        "      include_top = False,\n",
        "      weights=None)(inputs)\n",
        "  return features\n",
        "\n",
        "def classifier(inputs):\n",
        "  # connector\n",
        "  x = layers.GlobalAveragePooling2D()(inputs)\n",
        "  x = layers.Flatten()(x)\n",
        "  \n",
        "  # additional layers\n",
        "  x = layers.Dense(1024, activation=act)(x)\n",
        "  x = layers.Dense(512, activation=act)(x)\n",
        "  \n",
        "  output = layers.Dense(2, activation='sigmoid', name='predictions')(x)\n",
        "  return output\n",
        "\n",
        "# build model\n",
        "def mobileNet2NN(input_shape=(IMG_W, IMG_H, IMG_C), n_class=2):\n",
        "  n_classes = n_class\n",
        "  input_shape = input_shape\n",
        "  model_name = 'mobileNet2NN'\n",
        "\n",
        "  feature_mobileNet = feature_extractor(inputs)\n",
        "  class_output = classifier(feature_mobileNet)\n",
        "\n",
        "  model = Model(inputs=inputs, outputs=class_output, name=model_name)\n",
        "  model.compile(loss=loss, optimizer = opt, metrics= metrics)\n",
        "  \n",
        "  return model\n",
        "\n",
        "inputs = Input(shape=(96,96,3))\n",
        "mobileNet2NN = run_all(mobileNet2NN(2))"
      ],
      "execution_count": null,
      "outputs": [
        {
          "output_type": "stream",
          "name": "stdout",
          "text": [
            "Epoch 1/20\n",
            "308/308 [==============================] - 59s 177ms/step - loss: 0.5366 - accuracy: 0.7353 - auc_14: 0.8071 - precision_14: 0.7321 - recall_14: 0.7339 - true_negatives_14: 14373.0000 - true_positives_14: 14422.0000 - val_loss: 0.6947 - val_accuracy: 0.4972 - val_auc_14: 0.4972 - val_precision_14: 0.4972 - val_recall_14: 0.4972 - val_true_negatives_14: 3214.0000 - val_true_positives_14: 3214.0000\n",
            "Epoch 2/20\n",
            "308/308 [==============================] - 54s 175ms/step - loss: 0.4857 - accuracy: 0.7678 - auc_14: 0.8468 - precision_14: 0.7678 - recall_14: 0.7670 - true_negatives_14: 15091.0000 - true_positives_14: 15072.0000 - val_loss: 0.6940 - val_accuracy: 0.4968 - val_auc_14: 0.4968 - val_precision_14: 0.4968 - val_recall_14: 0.4968 - val_true_negatives_14: 3211.0000 - val_true_positives_14: 3211.0000\n",
            "Epoch 3/20\n",
            "308/308 [==============================] - 53s 173ms/step - loss: 0.4559 - accuracy: 0.7912 - auc_14: 0.8676 - precision_14: 0.7902 - recall_14: 0.7905 - true_negatives_14: 15526.0000 - true_positives_14: 15534.0000 - val_loss: 0.6953 - val_accuracy: 0.4972 - val_auc_14: 0.4972 - val_precision_14: 0.4972 - val_recall_14: 0.4972 - val_true_negatives_14: 3214.0000 - val_true_positives_14: 3214.0000\n",
            "Epoch 4/20\n",
            "308/308 [==============================] - 53s 173ms/step - loss: 0.4421 - accuracy: 0.8009 - auc_14: 0.8763 - precision_14: 0.8010 - recall_14: 0.8012 - true_negatives_14: 15738.0000 - true_positives_14: 15743.0000 - val_loss: 0.6950 - val_accuracy: 0.4968 - val_auc_14: 0.4968 - val_precision_14: 0.4968 - val_recall_14: 0.4968 - val_true_negatives_14: 3211.0000 - val_true_positives_14: 3211.0000\n",
            "Epoch 5/20\n",
            "308/308 [==============================] - 54s 174ms/step - loss: 0.4214 - accuracy: 0.8088 - auc_14: 0.8881 - precision_14: 0.8086 - recall_14: 0.8095 - true_negatives_14: 15885.0000 - true_positives_14: 15906.0000 - val_loss: 0.6978 - val_accuracy: 0.5025 - val_auc_14: 0.5025 - val_precision_14: 0.5025 - val_recall_14: 0.5025 - val_true_negatives_14: 3248.0000 - val_true_positives_14: 3248.0000\n",
            "Epoch 6/20\n",
            "308/308 [==============================] - 53s 172ms/step - loss: 0.4136 - accuracy: 0.8141 - auc_14: 0.8930 - precision_14: 0.8143 - recall_14: 0.8146 - true_negatives_14: 15999.0000 - true_positives_14: 16007.0000 - val_loss: 0.7085 - val_accuracy: 0.4969 - val_auc_14: 0.4969 - val_precision_14: 0.4969 - val_recall_14: 0.4969 - val_true_negatives_14: 3212.0000 - val_true_positives_14: 3212.0000\n",
            "Epoch 7/20\n",
            "308/308 [==============================] - 53s 172ms/step - loss: 0.4039 - accuracy: 0.8213 - auc_14: 0.8982 - precision_14: 0.8215 - recall_14: 0.8214 - true_negatives_14: 16142.0000 - true_positives_14: 16140.0000 - val_loss: 0.6960 - val_accuracy: 0.4964 - val_auc_14: 0.4964 - val_precision_14: 0.4964 - val_recall_14: 0.4964 - val_true_negatives_14: 3209.0000 - val_true_positives_14: 3209.0000\n",
            "Epoch 8/20\n",
            "308/308 [==============================] - 53s 172ms/step - loss: 0.3899 - accuracy: 0.8288 - auc_14: 0.9054 - precision_14: 0.8290 - recall_14: 0.8285 - true_negatives_14: 16291.0000 - true_positives_14: 16280.0000 - val_loss: 0.7066 - val_accuracy: 0.4971 - val_auc_14: 0.4971 - val_precision_14: 0.4971 - val_recall_14: 0.4971 - val_true_negatives_14: 3213.0000 - val_true_positives_14: 3213.0000\n",
            "Epoch 9/20\n",
            "308/308 [==============================] - 53s 173ms/step - loss: 0.3851 - accuracy: 0.8302 - auc_14: 0.9079 - precision_14: 0.8300 - recall_14: 0.8299 - true_negatives_14: 16309.0000 - true_positives_14: 16307.0000 - val_loss: 0.7045 - val_accuracy: 0.4972 - val_auc_14: 0.4972 - val_precision_14: 0.4972 - val_recall_14: 0.4972 - val_true_negatives_14: 3214.0000 - val_true_positives_14: 3214.0000\n",
            "Epoch 10/20\n",
            "308/308 [==============================] - 53s 173ms/step - loss: 0.3724 - accuracy: 0.8364 - auc_14: 0.9139 - precision_14: 0.8360 - recall_14: 0.8367 - true_negatives_14: 16425.0000 - true_positives_14: 16442.0000 - val_loss: 0.7058 - val_accuracy: 0.4966 - val_auc_14: 0.4966 - val_precision_14: 0.4966 - val_recall_14: 0.4966 - val_true_negatives_14: 3210.0000 - val_true_positives_14: 3210.0000\n",
            "Epoch 11/20\n",
            "308/308 [==============================] - 53s 173ms/step - loss: 0.3719 - accuracy: 0.8407 - auc_14: 0.9143 - precision_14: 0.8408 - recall_14: 0.8407 - true_negatives_14: 16521.0000 - true_positives_14: 16520.0000 - val_loss: 0.7059 - val_accuracy: 0.4975 - val_auc_14: 0.4975 - val_precision_14: 0.4975 - val_recall_14: 0.4975 - val_true_negatives_14: 3216.0000 - val_true_positives_14: 3216.0000\n",
            "Epoch 12/20\n",
            "308/308 [==============================] - 53s 172ms/step - loss: 0.3610 - accuracy: 0.8455 - auc_14: 0.9195 - precision_14: 0.8451 - recall_14: 0.8454 - true_negatives_14: 16604.0000 - true_positives_14: 16613.0000 - val_loss: 0.7145 - val_accuracy: 0.4966 - val_auc_14: 0.5302 - val_precision_14: 0.4966 - val_recall_14: 0.4966 - val_true_negatives_14: 3210.0000 - val_true_positives_14: 3210.0000\n",
            "Epoch 13/20\n",
            "308/308 [==============================] - 53s 173ms/step - loss: 0.3570 - accuracy: 0.8477 - auc_14: 0.9213 - precision_14: 0.8474 - recall_14: 0.8481 - true_negatives_14: 16650.0000 - true_positives_14: 16665.0000 - val_loss: 0.7153 - val_accuracy: 0.4972 - val_auc_14: 0.4972 - val_precision_14: 0.4972 - val_recall_14: 0.4972 - val_true_negatives_14: 3214.0000 - val_true_positives_14: 3214.0000\n",
            "Epoch 14/20\n",
            "308/308 [==============================] - 54s 174ms/step - loss: 0.3482 - accuracy: 0.8491 - auc_14: 0.9252 - precision_14: 0.8488 - recall_14: 0.8493 - true_negatives_14: 16678.0000 - true_positives_14: 16689.0000 - val_loss: 0.7055 - val_accuracy: 0.4972 - val_auc_14: 0.4972 - val_precision_14: 0.4972 - val_recall_14: 0.4972 - val_true_negatives_14: 3214.0000 - val_true_positives_14: 3214.0000\n",
            "Epoch 15/20\n",
            "308/308 [==============================] - 54s 174ms/step - loss: 0.3393 - accuracy: 0.8531 - auc_14: 0.9291 - precision_14: 0.8530 - recall_14: 0.8534 - true_negatives_14: 16759.0000 - true_positives_14: 16769.0000 - val_loss: 0.7105 - val_accuracy: 0.4972 - val_auc_14: 0.5747 - val_precision_14: 0.4972 - val_recall_14: 0.4972 - val_true_negatives_14: 3214.0000 - val_true_positives_14: 3214.0000\n",
            "Epoch 16/20\n",
            "308/308 [==============================] - 53s 173ms/step - loss: 0.3347 - accuracy: 0.8524 - auc_14: 0.9310 - precision_14: 0.8522 - recall_14: 0.8525 - true_negatives_14: 16744.0000 - true_positives_14: 16751.0000 - val_loss: 0.7068 - val_accuracy: 0.4974 - val_auc_14: 0.5917 - val_precision_14: 0.4974 - val_recall_14: 0.4974 - val_true_negatives_14: 3215.0000 - val_true_positives_14: 3215.0000\n",
            "Epoch 17/20\n",
            "308/308 [==============================] - 53s 172ms/step - loss: 0.3345 - accuracy: 0.8586 - auc_14: 0.9313 - precision_14: 0.8585 - recall_14: 0.8590 - true_negatives_14: 16869.0000 - true_positives_14: 16879.0000 - val_loss: 0.7183 - val_accuracy: 0.4975 - val_auc_14: 0.6524 - val_precision_14: 0.4975 - val_recall_14: 0.4975 - val_true_negatives_14: 3216.0000 - val_true_positives_14: 3216.0000\n",
            "Epoch 18/20\n",
            "308/308 [==============================] - 54s 175ms/step - loss: 0.3252 - accuracy: 0.8603 - auc_14: 0.9352 - precision_14: 0.8603 - recall_14: 0.8602 - true_negatives_14: 16906.0000 - true_positives_14: 16903.0000 - val_loss: 0.6958 - val_accuracy: 0.5200 - val_auc_14: 0.6312 - val_precision_14: 0.5198 - val_recall_14: 0.5173 - val_true_negatives_14: 3375.0000 - val_true_positives_14: 3344.0000\n",
            "Epoch 19/20\n",
            "308/308 [==============================] - 54s 175ms/step - loss: 0.3243 - accuracy: 0.8616 - auc_14: 0.9355 - precision_14: 0.8616 - recall_14: 0.8616 - true_negatives_14: 16931.0000 - true_positives_14: 16931.0000 - val_loss: 0.6681 - val_accuracy: 0.5639 - val_auc_14: 0.6659 - val_precision_14: 0.5646 - val_recall_14: 0.5608 - val_true_negatives_14: 3669.0000 - val_true_positives_14: 3625.0000\n",
            "Epoch 20/20\n",
            "308/308 [==============================] - 54s 174ms/step - loss: 0.3159 - accuracy: 0.8648 - auc_14: 0.9389 - precision_14: 0.8648 - recall_14: 0.8649 - true_negatives_14: 16992.0000 - true_positives_14: 16995.0000 - val_loss: 0.5276 - val_accuracy: 0.7539 - val_auc_14: 0.8458 - val_precision_14: 0.7547 - val_recall_14: 0.7528 - val_true_negatives_14: 4882.0000 - val_true_positives_14: 4866.0000\n",
            "Total training time = 1359.2662000656128s\n"
          ]
        },
        {
          "output_type": "stream",
          "name": "stderr",
          "text": [
            "/usr/local/lib/python3.7/dist-packages/keras/engine/functional.py:1410: CustomMaskWarning: Custom mask layers require a config and must override get_config. When loading, the custom mask layer must be passed to the custom_objects argument.\n",
            "  layer_config = serialize_layer_fn(layer)\n"
          ]
        },
        {
          "output_type": "stream",
          "name": "stdout",
          "text": [
            "103/103 [==============================] - 2s 22ms/step - loss: 0.5313 - accuracy: 0.7507 - auc_14: 0.8407 - precision_14: 0.7511 - recall_14: 0.7489 - true_negatives_14: 4928.0000 - true_positives_14: 4908.0000\n"
          ]
        },
        {
          "output_type": "display_data",
          "data": {
            "image/png": "[encoded data removed]",
            "text/plain": [
              "<Figure size 432x288 with 1 Axes>"
            ]
          },
          "metadata": {
            "needs_background": "light"
          }
        },
        {
          "output_type": "display_data",
          "data": {
            "image/png": "[encoded data removed]",
            "text/plain": [
              "<Figure size 432x288 with 1 Axes>"
            ]
          },
          "metadata": {
            "needs_background": "light"
          }
        }
      ]
    },
    {
      "cell_type": "code",
      "metadata": {
        "colab": {
          "base_uri": "https://localhost:8080/"
        },
        "id": "R2g6YbLsYEQP",
        "outputId": "b1fc0a00-b48c-4589-cf45-7eeb23095f17"
      },
      "source": [
        "m0.summary()"
      ],
      "execution_count": null,
      "outputs": [
        {
          "output_type": "stream",
          "name": "stdout",
          "text": [
            "Model: \"mobileNet2NN\"\n",
            "_________________________________________________________________\n",
            " Layer (type)                Output Shape              Param #   \n",
            "=================================================================\n",
            " input_37 (InputLayer)       [(None, 96, 96, 3)]       0         \n",
            "                                                                 \n",
            " mobilenetv2_1.00_96 (Functi  (None, 3, 3, 1280)       2257984   \n",
            " onal)                                                           \n",
            "                                                                 \n",
            " global_average_pooling2d (G  (None, 1280)             0         \n",
            " lobalAveragePooling2D)                                          \n",
            "                                                                 \n",
            " flatten_5 (Flatten)         (None, 1280)              0         \n",
            "                                                                 \n",
            " dense (Dense)               (None, 1024)              1311744   \n",
            "                                                                 \n",
            " dense_1 (Dense)             (None, 512)               524800    \n",
            "                                                                 \n",
            " predictions (Dense)         (None, 2)                 1026      \n",
            "                                                                 \n",
            "=================================================================\n",
            "Total params: 4,095,554\n",
            "Trainable params: 4,061,442\n",
            "Non-trainable params: 34,112\n",
            "_________________________________________________________________\n"
          ]
        }
      ]
    },
    {
      "cell_type": "markdown",
      "metadata": {
        "id": "ltTkUGlvQeGF",
        "tags": []
      },
      "source": [
        "## M1: selu_mobileNet2 (85%)\n"
      ]
    },
    {
      "cell_type": "code",
      "metadata": {
        "colab": {
          "base_uri": "https://localhost:8080/",
          "height": 1000
        },
        "id": "E0jgMC-h-VFL",
        "jupyter": {
          "source_hidden": true
        },
        "tags": [],
        "outputId": "44b9ddff-0b5a-4688-d5bb-fd9492debeb3"
      },
      "source": [
        "(IMG_W, IMG_H, IMG_C) = (96,96,3)\n",
        "\n",
        "# default config\n",
        "lr = 0.0001\n",
        "opt = Adam(learning_rate=lr)\n",
        "act = 'selu'\n",
        "loss = 'binary_crossentropy'\n",
        "metrics = ['accuracy']\n",
        "n_epochs = 20\n",
        "\n",
        "# pretrained model\n",
        "def feature_extractor(inputs):\n",
        "  features = MobileNetV2(\n",
        "      input_shape = (IMG_W, IMG_H, IMG_C),\n",
        "      include_top = False,\n",
        "      weights='imagenet')(inputs)\n",
        "  return features\n",
        "\n",
        "def classifier(inputs):\n",
        "  # connector\n",
        "  x = BatchNormalization()(inputs)\n",
        "  x = GlobalAveragePooling2D()(x)\n",
        "  x = Flatten()(x)\n",
        "  \n",
        "  # additional layers\n",
        "  x = Dense(1024, activation=act)(x)\n",
        "  x = BatchNormalization()(x)\n",
        "  x = Dense(512, activation=act)(x)\n",
        "  x = BatchNormalization()(x)\n",
        "  output = Dense(2, activation='sigmoid', name='predictions')(x)\n",
        "  return output\n",
        "\n",
        "# build model\n",
        "def selu_mobileNet2(input_shape=(IMG_W, IMG_H, IMG_C), n_class=2):\n",
        "  n_classes = n_class\n",
        "  input_shape = input_shape\n",
        "  model_name = 'selu_mobileNet2'\n",
        "\n",
        "  feature_mobileNet = feature_extractor(inputs)\n",
        "  class_output = classifier(feature_mobileNet)\n",
        "\n",
        "  model = Model(inputs=inputs, outputs=class_output, name=model_name)\n",
        "  model.compile(loss=loss, optimizer = opt, metrics= metrics)\n",
        "  \n",
        "  return model\n",
        "\n",
        "# define input layer\n",
        "inputs = Input(shape=(96,96,3))\n",
        "selu_mobileNet2 = run_all(selu_mobileNet2(inputs))"
      ],
      "execution_count": null,
      "outputs": [
        {
          "output_type": "stream",
          "name": "stdout",
          "text": [
            "Downloading data from https://storage.googleapis.com/tensorflow/keras-applications/mobilenet_v2/mobilenet_v2_weights_tf_dim_ordering_tf_kernels_1.0_96_no_top.h5\n",
            "9412608/9406464 [==============================] - 0s 0us/step\n",
            "9420800/9406464 [==============================] - 0s 0us/step\n",
            "Epoch 1/20\n",
            "308/308 [==============================] - 76s 225ms/step - loss: 0.3889 - accuracy: 0.8333 - auc_16: 0.9091 - precision_16: 0.8283 - recall_16: 0.8304 - true_negatives_16: 16267.0000 - true_positives_16: 16318.0000 - val_loss: 1.1328 - val_accuracy: 0.5707 - val_auc_16: 0.7080 - val_precision_16: 0.5763 - val_recall_16: 0.5574 - val_true_negatives_16: 3815.0000 - val_true_positives_16: 3603.0000\n",
            "Epoch 2/20\n",
            "308/308 [==============================] - 66s 213ms/step - loss: 0.3161 - accuracy: 0.8645 - auc_16: 0.9393 - precision_16: 0.8627 - recall_16: 0.8624 - true_negatives_16: 16952.0000 - true_positives_16: 16946.0000 - val_loss: 0.7674 - val_accuracy: 0.7347 - val_auc_16: 0.8125 - val_precision_16: 0.7381 - val_recall_16: 0.7212 - val_true_negatives_16: 4810.0000 - val_true_positives_16: 4662.0000\n",
            "Epoch 3/20\n",
            "308/308 [==============================] - 66s 214ms/step - loss: 0.2889 - accuracy: 0.8796 - auc_16: 0.9492 - precision_16: 0.8791 - recall_16: 0.8792 - true_negatives_16: 17275.0000 - true_positives_16: 17276.0000 - val_loss: 0.6341 - val_accuracy: 0.7662 - val_auc_16: 0.8551 - val_precision_16: 0.7683 - val_recall_16: 0.7647 - val_true_negatives_16: 4973.0000 - val_true_positives_16: 4943.0000\n",
            "Epoch 4/20\n",
            "308/308 [==============================] - 66s 213ms/step - loss: 0.2741 - accuracy: 0.8851 - auc_16: 0.9543 - precision_16: 0.8850 - recall_16: 0.8851 - true_negatives_16: 17389.0000 - true_positives_16: 17392.0000 - val_loss: 0.4369 - val_accuracy: 0.8212 - val_auc_16: 0.9029 - val_precision_16: 0.8251 - val_recall_16: 0.8157 - val_true_negatives_16: 5346.0000 - val_true_positives_16: 5273.0000\n",
            "Epoch 5/20\n",
            "308/308 [==============================] - 66s 214ms/step - loss: 0.2593 - accuracy: 0.8940 - auc_16: 0.9591 - precision_16: 0.8929 - recall_16: 0.8937 - true_negatives_16: 17544.0000 - true_positives_16: 17562.0000 - val_loss: 0.3723 - val_accuracy: 0.8393 - val_auc_16: 0.9217 - val_precision_16: 0.8439 - val_recall_16: 0.8312 - val_true_negatives_16: 5470.0000 - val_true_positives_16: 5373.0000\n",
            "Epoch 6/20\n",
            "308/308 [==============================] - 66s 214ms/step - loss: 0.2444 - accuracy: 0.8999 - auc_16: 0.9636 - precision_16: 0.9004 - recall_16: 0.8997 - true_negatives_16: 17694.0000 - true_positives_16: 17680.0000 - val_loss: 0.3633 - val_accuracy: 0.8433 - val_auc_16: 0.9254 - val_precision_16: 0.8454 - val_recall_16: 0.8402 - val_true_negatives_16: 5471.0000 - val_true_positives_16: 5431.0000\n",
            "Epoch 7/20\n",
            "308/308 [==============================] - 66s 214ms/step - loss: 0.2353 - accuracy: 0.9051 - auc_16: 0.9662 - precision_16: 0.9034 - recall_16: 0.9037 - true_negatives_16: 17752.0000 - true_positives_16: 17758.0000 - val_loss: 0.3842 - val_accuracy: 0.8448 - val_auc_16: 0.9198 - val_precision_16: 0.8448 - val_recall_16: 0.8436 - val_true_negatives_16: 5462.0000 - val_true_positives_16: 5453.0000\n",
            "Epoch 8/20\n",
            "308/308 [==============================] - 66s 215ms/step - loss: 0.2252 - accuracy: 0.9089 - auc_16: 0.9690 - precision_16: 0.9091 - recall_16: 0.9091 - true_negatives_16: 17863.0000 - true_positives_16: 17863.0000 - val_loss: 0.3293 - val_accuracy: 0.8646 - val_auc_16: 0.9389 - val_precision_16: 0.8606 - val_recall_16: 0.8665 - val_true_negatives_16: 5557.0000 - val_true_positives_16: 5601.0000\n",
            "Epoch 9/20\n",
            "308/308 [==============================] - 67s 216ms/step - loss: 0.2127 - accuracy: 0.9146 - auc_16: 0.9723 - precision_16: 0.9147 - recall_16: 0.9147 - true_negatives_16: 17973.0000 - true_positives_16: 17973.0000 - val_loss: 0.3276 - val_accuracy: 0.8561 - val_auc_16: 0.9372 - val_precision_16: 0.8544 - val_recall_16: 0.8569 - val_true_negatives_16: 5520.0000 - val_true_positives_16: 5539.0000\n",
            "Epoch 10/20\n",
            "308/308 [==============================] - 66s 215ms/step - loss: 0.2146 - accuracy: 0.9114 - auc_16: 0.9718 - precision_16: 0.9121 - recall_16: 0.9106 - true_negatives_16: 17925.0000 - true_positives_16: 17893.0000 - val_loss: 0.3286 - val_accuracy: 0.8639 - val_auc_16: 0.9393 - val_precision_16: 0.8585 - val_recall_16: 0.8685 - val_true_negatives_16: 5539.0000 - val_true_positives_16: 5614.0000\n",
            "Epoch 11/20\n",
            "308/308 [==============================] - 65s 212ms/step - loss: 0.1967 - accuracy: 0.9201 - auc_16: 0.9762 - precision_16: 0.9207 - recall_16: 0.9204 - true_negatives_16: 18093.0000 - true_positives_16: 18085.0000 - val_loss: 0.3625 - val_accuracy: 0.8459 - val_auc_16: 0.9287 - val_precision_16: 0.8459 - val_recall_16: 0.8430 - val_true_negatives_16: 5471.0000 - val_true_positives_16: 5449.0000\n",
            "Epoch 12/20\n",
            "308/308 [==============================] - 66s 213ms/step - loss: 0.2149 - accuracy: 0.9123 - auc_16: 0.9718 - precision_16: 0.9116 - recall_16: 0.9110 - true_negatives_16: 17915.0000 - true_positives_16: 17902.0000 - val_loss: 0.3630 - val_accuracy: 0.8513 - val_auc_16: 0.9340 - val_precision_16: 0.8484 - val_recall_16: 0.8586 - val_true_negatives_16: 5472.0000 - val_true_positives_16: 5550.0000\n",
            "Epoch 13/20\n",
            "308/308 [==============================] - 67s 217ms/step - loss: 0.1973 - accuracy: 0.9209 - auc_16: 0.9761 - precision_16: 0.9206 - recall_16: 0.9210 - true_negatives_16: 18089.0000 - true_positives_16: 18098.0000 - val_loss: 0.2907 - val_accuracy: 0.8781 - val_auc_16: 0.9503 - val_precision_16: 0.8763 - val_recall_16: 0.8767 - val_true_negatives_16: 5664.0000 - val_true_positives_16: 5667.0000\n",
            "Epoch 14/20\n",
            "308/308 [==============================] - 68s 221ms/step - loss: 0.1930 - accuracy: 0.9234 - auc_16: 0.9770 - precision_16: 0.9230 - recall_16: 0.9232 - true_negatives_16: 18136.0000 - true_positives_16: 18140.0000 - val_loss: 0.2623 - val_accuracy: 0.8868 - val_auc_16: 0.9602 - val_precision_16: 0.8874 - val_recall_16: 0.8899 - val_true_negatives_16: 5734.0000 - val_true_positives_16: 5752.0000\n",
            "Epoch 15/20\n",
            "308/308 [==============================] - 69s 223ms/step - loss: 0.1876 - accuracy: 0.9248 - auc_16: 0.9784 - precision_16: 0.9253 - recall_16: 0.9249 - true_negatives_16: 18182.0000 - true_positives_16: 18175.0000 - val_loss: 0.3099 - val_accuracy: 0.8711 - val_auc_16: 0.9490 - val_precision_16: 0.8674 - val_recall_16: 0.8733 - val_true_negatives_16: 5601.0000 - val_true_positives_16: 5645.0000\n",
            "Epoch 16/20\n",
            "308/308 [==============================] - 69s 223ms/step - loss: 0.1711 - accuracy: 0.9321 - auc_16: 0.9819 - precision_16: 0.9312 - recall_16: 0.9310 - true_negatives_16: 18299.0000 - true_positives_16: 18295.0000 - val_loss: 0.3333 - val_accuracy: 0.8631 - val_auc_16: 0.9434 - val_precision_16: 0.8625 - val_recall_16: 0.8653 - val_true_negatives_16: 5572.0000 - val_true_positives_16: 5593.0000\n",
            "Epoch 17/20\n",
            "308/308 [==============================] - 68s 222ms/step - loss: 0.1819 - accuracy: 0.9275 - auc_16: 0.9797 - precision_16: 0.9266 - recall_16: 0.9273 - true_negatives_16: 18207.0000 - true_positives_16: 18222.0000 - val_loss: 0.4324 - val_accuracy: 0.8438 - val_auc_16: 0.9227 - val_precision_16: 0.8447 - val_recall_16: 0.8413 - val_true_negatives_16: 5464.0000 - val_true_positives_16: 5438.0000\n",
            "Epoch 18/20\n",
            "308/308 [==============================] - 68s 221ms/step - loss: 0.1680 - accuracy: 0.9349 - auc_16: 0.9825 - precision_16: 0.9344 - recall_16: 0.9351 - true_negatives_16: 18359.0000 - true_positives_16: 18375.0000 - val_loss: 0.3795 - val_accuracy: 0.8575 - val_auc_16: 0.9336 - val_precision_16: 0.8573 - val_recall_16: 0.8569 - val_true_negatives_16: 5542.0000 - val_true_positives_16: 5539.0000\n",
            "Epoch 19/20\n",
            "308/308 [==============================] - 69s 223ms/step - loss: 0.1657 - accuracy: 0.9340 - auc_16: 0.9831 - precision_16: 0.9338 - recall_16: 0.9339 - true_negatives_16: 18349.0000 - true_positives_16: 18352.0000 - val_loss: 0.3419 - val_accuracy: 0.8529 - val_auc_16: 0.9336 - val_precision_16: 0.8525 - val_recall_16: 0.8546 - val_true_negatives_16: 5508.0000 - val_true_positives_16: 5524.0000\n",
            "Epoch 20/20\n",
            "308/308 [==============================] - 69s 223ms/step - loss: 0.1634 - accuracy: 0.9370 - auc_16: 0.9834 - precision_16: 0.9369 - recall_16: 0.9370 - true_negatives_16: 18409.0000 - true_positives_16: 18412.0000 - val_loss: 0.3623 - val_accuracy: 0.8532 - val_auc_16: 0.9318 - val_precision_16: 0.8502 - val_recall_16: 0.8549 - val_true_negatives_16: 5490.0000 - val_true_positives_16: 5526.0000\n",
            "Total training time = 1511.7181429862976s\n",
            "INFO:tensorflow:Assets written to: /content/drive/MyDrive/Colab Notebooks/PCam/models/selu_mobileNet2/assets\n"
          ]
        },
        {
          "output_type": "stream",
          "name": "stderr",
          "text": [
            "INFO:tensorflow:Assets written to: /content/drive/MyDrive/Colab Notebooks/PCam/models/selu_mobileNet2/assets\n",
            "/usr/local/lib/python3.7/dist-packages/keras/engine/functional.py:1410: CustomMaskWarning: Custom mask layers require a config and must override get_config. When loading, the custom mask layer must be passed to the custom_objects argument.\n",
            "  layer_config = serialize_layer_fn(layer)\n",
            "/usr/local/lib/python3.7/dist-packages/keras/saving/saved_model/layer_serialization.py:112: CustomMaskWarning: Custom mask layers require a config and must override get_config. When loading, the custom mask layer must be passed to the custom_objects argument.\n",
            "  return generic_utils.serialize_keras_object(obj)\n"
          ]
        },
        {
          "output_type": "stream",
          "name": "stdout",
          "text": [
            "103/103 [==============================] - 3s 29ms/step - loss: 0.3827 - accuracy: 0.8464 - auc_16: 0.9253 - precision_16: 0.8424 - recall_16: 0.8489 - true_negatives_16: 5513.0000 - true_positives_16: 5564.0000\n"
          ]
        },
        {
          "output_type": "display_data",
          "data": {
            "image/png": "[encoded data removed]",
            "text/plain": [
              "<Figure size 432x288 with 1 Axes>"
            ]
          },
          "metadata": {
            "needs_background": "light"
          }
        },
        {
          "output_type": "display_data",
          "data": {
            "image/png": "[encoded data removed]",
            "text/plain": [
              "<Figure size 432x288 with 1 Axes>"
            ]
          },
          "metadata": {
            "needs_background": "light"
          }
        }
      ]
    },
    {
      "cell_type": "markdown",
      "metadata": {
        "id": "oKV0bkOyRScA",
        "tags": []
      },
      "source": [
        "## M2: elu_mobileNet2 (90%)"
      ]
    },
    {
      "cell_type": "code",
      "metadata": {
        "id": "kU84oRcNRQcE",
        "colab": {
          "base_uri": "https://localhost:8080/",
          "height": 1000
        },
        "outputId": "5c374f43-6859-4310-9b58-b3fdc69146ab"
      },
      "source": [
        "(IMG_W, IMG_H, IMG_C) = (96,96,3)\n",
        "\n",
        "# default config\n",
        "lr = 0.0001\n",
        "opt = Adam(learning_rate=lr)\n",
        "act = 'elu'\n",
        "loss = 'binary_crossentropy'\n",
        "metrics = ['accuracy']\n",
        "n_epochs = 20\n",
        "\n",
        "# pretrained model\n",
        "def feature_extractor(inputs):\n",
        "  features = MobileNetV2(\n",
        "      input_shape = (IMG_W, IMG_H, IMG_C),\n",
        "      include_top = False,\n",
        "      weights='imagenet')(inputs)\n",
        "  return features\n",
        "\n",
        "def classifier(inputs):\n",
        "  # connector\n",
        "  x = BatchNormalization()(inputs)\n",
        "  x = GlobalAveragePooling2D()(x)\n",
        "  x = Flatten()(x)\n",
        "  \n",
        "  # additional layers\n",
        "  x = Dense(1024, activation=act)(x)\n",
        "  x = BatchNormalization()(x)\n",
        "  x = Dense(512, activation=act)(x)\n",
        "  x = BatchNormalization()(x)\n",
        "  output = Dense(2, activation='sigmoid', name='predictions')(x)\n",
        "  return output\n",
        "\n",
        "# build model\n",
        "def elu_mobileNet2(input_shape=(IMG_W, IMG_H, IMG_C), n_class=2):\n",
        "  n_classes = n_class\n",
        "  input_shape = input_shape\n",
        "  model_name = 'elu_mobileNet2'\n",
        "\n",
        "  feature_mobileNet = feature_extractor(inputs)\n",
        "  class_output = classifier(feature_mobileNet)\n",
        "\n",
        "  model = Model(inputs=inputs, outputs=class_output, name=model_name)\n",
        "  model.compile(loss=loss, optimizer = opt, metrics= metrics)\n",
        "  \n",
        "  return model\n",
        "\n",
        "# define input layer\n",
        "\n",
        "elu_mobileNet2 = run_all(elu_mobileNet2())"
      ],
      "execution_count": null,
      "outputs": [
        {
          "output_type": "stream",
          "name": "stdout",
          "text": [
            "Epoch 1/20\n",
            "308/308 [==============================] - 61s 181ms/step - loss: 0.3573 - accuracy: 0.8506 - auc_21: 0.9242 - precision_21: 0.8469 - recall_21: 0.8450 - true_negatives_21: 16649.0000 - true_positives_21: 16605.0000 - val_loss: 0.8888 - val_accuracy: 0.6965 - val_auc_21: 0.7949 - val_precision_21: 0.6951 - val_recall_21: 0.7056 - val_true_negatives_21: 4463.0000 - val_true_positives_21: 4561.0000\n",
            "Epoch 2/20\n",
            "308/308 [==============================] - 54s 175ms/step - loss: 0.2527 - accuracy: 0.8941 - auc_21: 0.9613 - precision_21: 0.8919 - recall_21: 0.8927 - true_negatives_21: 17523.0000 - true_positives_21: 17541.0000 - val_loss: 0.8577 - val_accuracy: 0.7389 - val_auc_21: 0.8242 - val_precision_21: 0.7378 - val_recall_21: 0.7420 - val_true_negatives_21: 4760.0000 - val_true_positives_21: 4796.0000\n",
            "Epoch 3/20\n",
            "308/308 [==============================] - 54s 176ms/step - loss: 0.2225 - accuracy: 0.9112 - auc_21: 0.9698 - precision_21: 0.9094 - recall_21: 0.9104 - true_negatives_21: 17867.0000 - true_positives_21: 17890.0000 - val_loss: 0.9231 - val_accuracy: 0.7546 - val_auc_21: 0.8274 - val_precision_21: 0.7508 - val_recall_21: 0.7611 - val_true_negatives_21: 4831.0000 - val_true_positives_21: 4920.0000\n",
            "Epoch 4/20\n",
            "308/308 [==============================] - 54s 176ms/step - loss: 0.2017 - accuracy: 0.9190 - auc_21: 0.9750 - precision_21: 0.9199 - recall_21: 0.9177 - true_negatives_21: 18079.0000 - true_positives_21: 18033.0000 - val_loss: 0.5029 - val_accuracy: 0.8300 - val_auc_21: 0.8998 - val_precision_21: 0.8241 - val_recall_21: 0.8373 - val_true_negatives_21: 5309.0000 - val_true_positives_21: 5412.0000\n",
            "Epoch 5/20\n",
            "308/308 [==============================] - 54s 175ms/step - loss: 0.1948 - accuracy: 0.9227 - auc_21: 0.9767 - precision_21: 0.9228 - recall_21: 0.9223 - true_negatives_21: 18134.0000 - true_positives_21: 18123.0000 - val_loss: 0.7940 - val_accuracy: 0.7398 - val_auc_21: 0.8222 - val_precision_21: 0.7361 - val_recall_21: 0.7498 - val_true_negatives_21: 4726.0000 - val_true_positives_21: 4847.0000\n",
            "Epoch 6/20\n",
            "308/308 [==============================] - 55s 177ms/step - loss: 0.1999 - accuracy: 0.9204 - auc_21: 0.9754 - precision_21: 0.9200 - recall_21: 0.9205 - true_negatives_21: 18077.0000 - true_positives_21: 18087.0000 - val_loss: 0.4105 - val_accuracy: 0.8447 - val_auc_21: 0.9192 - val_precision_21: 0.8390 - val_recall_21: 0.8464 - val_true_negatives_21: 5414.0000 - val_true_positives_21: 5471.0000\n",
            "Epoch 7/20\n",
            "308/308 [==============================] - 54s 175ms/step - loss: 0.1962 - accuracy: 0.9229 - auc_21: 0.9763 - precision_21: 0.9210 - recall_21: 0.9221 - true_negatives_21: 18095.0000 - true_positives_21: 18120.0000 - val_loss: 0.2611 - val_accuracy: 0.8928 - val_auc_21: 0.9619 - val_precision_21: 0.8870 - val_recall_21: 0.8970 - val_true_negatives_21: 5725.0000 - val_true_positives_21: 5798.0000\n",
            "Epoch 8/20\n",
            "308/308 [==============================] - 55s 178ms/step - loss: 0.1883 - accuracy: 0.9262 - auc_21: 0.9781 - precision_21: 0.9262 - recall_21: 0.9253 - true_negatives_21: 18201.0000 - true_positives_21: 18183.0000 - val_loss: 0.2605 - val_accuracy: 0.8946 - val_auc_21: 0.9618 - val_precision_21: 0.8959 - val_recall_21: 0.8936 - val_true_negatives_21: 5793.0000 - val_true_positives_21: 5776.0000\n",
            "Epoch 9/20\n",
            "308/308 [==============================] - 54s 175ms/step - loss: 0.1778 - accuracy: 0.9293 - auc_21: 0.9805 - precision_21: 0.9297 - recall_21: 0.9294 - true_negatives_21: 18269.0000 - true_positives_21: 18262.0000 - val_loss: 0.2093 - val_accuracy: 0.9151 - val_auc_21: 0.9733 - val_precision_21: 0.9144 - val_recall_21: 0.9151 - val_true_negatives_21: 5910.0000 - val_true_positives_21: 5915.0000\n",
            "Epoch 10/20\n",
            "308/308 [==============================] - 55s 177ms/step - loss: 0.1704 - accuracy: 0.9317 - auc_21: 0.9821 - precision_21: 0.9323 - recall_21: 0.9319 - true_negatives_21: 18321.0000 - true_positives_21: 18311.0000 - val_loss: 0.2057 - val_accuracy: 0.9171 - val_auc_21: 0.9756 - val_precision_21: 0.9185 - val_recall_21: 0.9175 - val_true_negatives_21: 5938.0000 - val_true_positives_21: 5931.0000\n",
            "Epoch 11/20\n",
            "308/308 [==============================] - 54s 175ms/step - loss: 0.1633 - accuracy: 0.9369 - auc_21: 0.9833 - precision_21: 0.9372 - recall_21: 0.9369 - true_negatives_21: 18416.0000 - true_positives_21: 18410.0000 - val_loss: 0.2838 - val_accuracy: 0.8851 - val_auc_21: 0.9612 - val_precision_21: 0.8857 - val_recall_21: 0.8843 - val_true_negatives_21: 5726.0000 - val_true_positives_21: 5716.0000\n",
            "Epoch 12/20\n",
            "308/308 [==============================] - 55s 177ms/step - loss: 0.1596 - accuracy: 0.9370 - auc_21: 0.9843 - precision_21: 0.9366 - recall_21: 0.9366 - true_negatives_21: 18404.0000 - true_positives_21: 18404.0000 - val_loss: 0.2822 - val_accuracy: 0.8869 - val_auc_21: 0.9625 - val_precision_21: 0.8863 - val_recall_21: 0.8860 - val_true_negatives_21: 5729.0000 - val_true_positives_21: 5727.0000\n",
            "Epoch 13/20\n",
            "308/308 [==============================] - 54s 175ms/step - loss: 0.1514 - accuracy: 0.9433 - auc_21: 0.9856 - precision_21: 0.9427 - recall_21: 0.9430 - true_negatives_21: 18523.0000 - true_positives_21: 18529.0000 - val_loss: 0.2785 - val_accuracy: 0.8881 - val_auc_21: 0.9609 - val_precision_21: 0.8878 - val_recall_21: 0.8877 - val_true_negatives_21: 5739.0000 - val_true_positives_21: 5738.0000\n",
            "Epoch 14/20\n",
            "308/308 [==============================] - 54s 174ms/step - loss: 0.1766 - accuracy: 0.9322 - auc_21: 0.9806 - precision_21: 0.9318 - recall_21: 0.9324 - true_negatives_21: 18309.0000 - true_positives_21: 18321.0000 - val_loss: 0.2342 - val_accuracy: 0.9004 - val_auc_21: 0.9693 - val_precision_21: 0.8985 - val_recall_21: 0.9038 - val_true_negatives_21: 5804.0000 - val_true_positives_21: 5842.0000\n",
            "Epoch 15/20\n",
            "308/308 [==============================] - 54s 175ms/step - loss: 0.1611 - accuracy: 0.9364 - auc_21: 0.9839 - precision_21: 0.9360 - recall_21: 0.9352 - true_negatives_21: 18394.0000 - true_positives_21: 18376.0000 - val_loss: 0.2108 - val_accuracy: 0.9112 - val_auc_21: 0.9753 - val_precision_21: 0.9128 - val_recall_21: 0.9120 - val_true_negatives_21: 5901.0000 - val_true_positives_21: 5895.0000\n",
            "Epoch 16/20\n",
            "308/308 [==============================] - 55s 178ms/step - loss: 0.1523 - accuracy: 0.9404 - auc_21: 0.9856 - precision_21: 0.9413 - recall_21: 0.9404 - true_negatives_21: 18497.0000 - true_positives_21: 18478.0000 - val_loss: 0.1720 - val_accuracy: 0.9315 - val_auc_21: 0.9817 - val_precision_21: 0.9311 - val_recall_21: 0.9330 - val_true_negatives_21: 6018.0000 - val_true_positives_21: 6031.0000\n",
            "Epoch 17/20\n",
            "308/308 [==============================] - 54s 176ms/step - loss: 0.1443 - accuracy: 0.9437 - auc_21: 0.9870 - precision_21: 0.9434 - recall_21: 0.9432 - true_negatives_21: 18538.0000 - true_positives_21: 18534.0000 - val_loss: 0.1761 - val_accuracy: 0.9313 - val_auc_21: 0.9812 - val_precision_21: 0.9305 - val_recall_21: 0.9321 - val_true_negatives_21: 6014.0000 - val_true_positives_21: 6025.0000\n",
            "Epoch 18/20\n",
            "308/308 [==============================] - 54s 176ms/step - loss: 0.1540 - accuracy: 0.9395 - auc_21: 0.9850 - precision_21: 0.9396 - recall_21: 0.9393 - true_negatives_21: 18463.0000 - true_positives_21: 18458.0000 - val_loss: 0.2079 - val_accuracy: 0.9211 - val_auc_21: 0.9750 - val_precision_21: 0.9177 - val_recall_21: 0.9216 - val_true_negatives_21: 5930.0000 - val_true_positives_21: 5957.0000\n",
            "Epoch 19/20\n",
            "308/308 [==============================] - 54s 175ms/step - loss: 0.1430 - accuracy: 0.9439 - auc_21: 0.9872 - precision_21: 0.9441 - recall_21: 0.9442 - true_negatives_21: 18552.0000 - true_positives_21: 18553.0000 - val_loss: 0.1817 - val_accuracy: 0.9278 - val_auc_21: 0.9803 - val_precision_21: 0.9275 - val_recall_21: 0.9282 - val_true_negatives_21: 5995.0000 - val_true_positives_21: 6000.0000\n",
            "Epoch 20/20\n",
            "308/308 [==============================] - 54s 175ms/step - loss: 0.1412 - accuracy: 0.9453 - auc_21: 0.9874 - precision_21: 0.9455 - recall_21: 0.9452 - true_negatives_21: 18580.0000 - true_positives_21: 18573.0000 - val_loss: 0.2200 - val_accuracy: 0.9129 - val_auc_21: 0.9704 - val_precision_21: 0.9109 - val_recall_21: 0.9126 - val_true_negatives_21: 5887.0000 - val_true_positives_21: 5899.0000\n",
            "Total training time = 1394.382744550705s\n"
          ]
        },
        {
          "output_type": "stream",
          "name": "stderr",
          "text": [
            "/usr/local/lib/python3.7/dist-packages/keras/engine/functional.py:1410: CustomMaskWarning: Custom mask layers require a config and must override get_config. When loading, the custom mask layer must be passed to the custom_objects argument.\n",
            "  layer_config = serialize_layer_fn(layer)\n"
          ]
        },
        {
          "output_type": "stream",
          "name": "stdout",
          "text": [
            "103/103 [==============================] - 3s 24ms/step - loss: 0.2412 - accuracy: 0.9011 - auc_21: 0.9652 - precision_21: 0.8992 - recall_21: 0.9007 - true_negatives_21: 5892.0000 - true_positives_21: 5903.0000\n"
          ]
        },
        {
          "output_type": "display_data",
          "data": {
            "image/png": "[encoded data removed]",
            "text/plain": [
              "<Figure size 432x288 with 1 Axes>"
            ]
          },
          "metadata": {
            "needs_background": "light"
          }
        },
        {
          "output_type": "display_data",
          "data": {
            "image/png": "[encoded data removed]",
            "text/plain": [
              "<Figure size 432x288 with 1 Axes>"
            ]
          },
          "metadata": {
            "needs_background": "light"
          }
        }
      ]
    },
    {
      "cell_type": "code",
      "metadata": {
        "id": "4-jAZ7LHbxpX",
        "colab": {
          "base_uri": "https://localhost:8080/"
        },
        "outputId": "ee18bf91-a008-42e4-e621-be4fe6338c68"
      },
      "source": [
        "m2.summary()"
      ],
      "execution_count": null,
      "outputs": [
        {
          "output_type": "stream",
          "name": "stdout",
          "text": [
            "Model: \"elu_mobileNet2\"\n",
            "_________________________________________________________________\n",
            " Layer (type)                Output Shape              Param #   \n",
            "=================================================================\n",
            " input_48 (InputLayer)       [(None, 96, 96, 3)]       0         \n",
            "                                                                 \n",
            " mobilenetv2_1.00_96 (Functi  (None, 3, 3, 1280)       2257984   \n",
            " onal)                                                           \n",
            "                                                                 \n",
            " batch_normalization_12 (Bat  (None, 3, 3, 1280)       5120      \n",
            " chNormalization)                                                \n",
            "                                                                 \n",
            " global_average_pooling2d_5   (None, 1280)             0         \n",
            " (GlobalAveragePooling2D)                                        \n",
            "                                                                 \n",
            " flatten_10 (Flatten)        (None, 1280)              0         \n",
            "                                                                 \n",
            " dense_10 (Dense)            (None, 1024)              1311744   \n",
            "                                                                 \n",
            " batch_normalization_13 (Bat  (None, 1024)             4096      \n",
            " chNormalization)                                                \n",
            "                                                                 \n",
            " dense_11 (Dense)            (None, 512)               524800    \n",
            "                                                                 \n",
            " batch_normalization_14 (Bat  (None, 512)              2048      \n",
            " chNormalization)                                                \n",
            "                                                                 \n",
            " predictions (Dense)         (None, 2)                 1026      \n",
            "                                                                 \n",
            "=================================================================\n",
            "Total params: 4,106,818\n",
            "Trainable params: 4,067,074\n",
            "Non-trainable params: 39,744\n",
            "_________________________________________________________________\n"
          ]
        }
      ]
    },
    {
      "cell_type": "markdown",
      "metadata": {
        "id": "TWPrKL4_IBJs",
        "tags": []
      },
      "source": [
        "## M3: relu_mobileNet2 (89%)"
      ]
    },
    {
      "cell_type": "code",
      "metadata": {
        "id": "gMTSnD9Wa0z3",
        "colab": {
          "base_uri": "https://localhost:8080/",
          "height": 1000
        },
        "outputId": "0300db28-a016-401b-ada7-6e9425599964"
      },
      "source": [
        "(IMG_W, IMG_H, IMG_C) = (96,96,3)\n",
        "\n",
        "# default config\n",
        "lr = 0.0001\n",
        "opt = Adam(learning_rate=lr)\n",
        "act = 'relu'\n",
        "loss = 'binary_crossentropy'\n",
        "metrics = ['accuracy']\n",
        "n_epochs = 20 \n",
        "\n",
        "# pretrained model\n",
        "def feature_extractor(inputs):\n",
        "  features = MobileNetV2(\n",
        "      input_shape = (IMG_W, IMG_H, IMG_C),\n",
        "      include_top = False,\n",
        "      weights='imagenet')(inputs)\n",
        "  return features\n",
        "\n",
        "def classifier(inputs):\n",
        "  # connector\n",
        "  x = layers.GlobalAveragePooling2D()(inputs)\n",
        "  x = layers.Flatten()(x)\n",
        "  \n",
        "  # additional layers\n",
        "  x = layers.Dense(1024, activation=act)(x)\n",
        "  x = layers.Dense(512, activation=act)(x)\n",
        "  \n",
        "  output = layers.Dense(2, activation='sigmoid', name='predictions')(x)\n",
        "  return output\n",
        "\n",
        "# build model\n",
        "def relu_mobileNet2(input_shape=(IMG_W, IMG_H, IMG_C), n_class=2):\n",
        "  n_classes = n_class\n",
        "  input_shape = input_shape\n",
        "  model_name = 'relu_mobileNet2'\n",
        "\n",
        "  feature_mobileNet = feature_extractor(inputs)\n",
        "  class_output = classifier(feature_mobileNet)\n",
        "\n",
        "  model = Model(inputs=inputs, outputs=class_output, name=model_name)\n",
        "  model.compile(loss=loss, optimizer = opt, metrics= metrics)\n",
        "  \n",
        "  return model\n",
        "\n",
        "# relu\n",
        "relu_mobileNet2 = run_all(relu_mobileNet2())"
      ],
      "execution_count": null,
      "outputs": [
        {
          "output_type": "stream",
          "name": "stdout",
          "text": [
            "Epoch 1/20\n",
            "308/308 [==============================] - 60s 180ms/step - loss: 0.3367 - accuracy: 0.8520 - auc_22: 0.9302 - precision_22: 0.8528 - recall_22: 0.8507 - true_negatives_22: 16764.0000 - true_positives_22: 16716.0000 - val_loss: 1.8595 - val_accuracy: 0.5650 - val_auc_22: 0.6652 - val_precision_22: 0.5643 - val_recall_22: 0.5668 - val_true_negatives_22: 3635.0000 - val_true_positives_22: 3664.0000\n",
            "Epoch 2/20\n",
            "308/308 [==============================] - 54s 174ms/step - loss: 0.2293 - accuracy: 0.9066 - auc_22: 0.9679 - precision_22: 0.9065 - recall_22: 0.9060 - true_negatives_22: 17814.0000 - true_positives_22: 17803.0000 - val_loss: 1.9367 - val_accuracy: 0.5647 - val_auc_22: 0.6605 - val_precision_22: 0.5659 - val_recall_22: 0.5676 - val_true_negatives_22: 3650.0000 - val_true_positives_22: 3669.0000\n",
            "Epoch 3/20\n",
            "308/308 [==============================] - 53s 174ms/step - loss: 0.1975 - accuracy: 0.9224 - auc_22: 0.9760 - precision_22: 0.9226 - recall_22: 0.9217 - true_negatives_22: 18131.0000 - true_positives_22: 18112.0000 - val_loss: 1.5484 - val_accuracy: 0.6448 - val_auc_22: 0.7245 - val_precision_22: 0.6445 - val_recall_22: 0.6468 - val_true_negatives_22: 4158.0000 - val_true_positives_22: 4181.0000\n",
            "Epoch 4/20\n",
            "308/308 [==============================] - 54s 175ms/step - loss: 0.1752 - accuracy: 0.9316 - auc_22: 0.9809 - precision_22: 0.9311 - recall_22: 0.9313 - true_negatives_22: 18296.0000 - true_positives_22: 18300.0000 - val_loss: 1.0405 - val_accuracy: 0.7498 - val_auc_22: 0.8271 - val_precision_22: 0.7498 - val_recall_22: 0.7529 - val_true_negatives_22: 4840.0000 - val_true_positives_22: 4867.0000\n",
            "Epoch 5/20\n",
            "308/308 [==============================] - 54s 176ms/step - loss: 0.1555 - accuracy: 0.9390 - auc_22: 0.9849 - precision_22: 0.9390 - recall_22: 0.9391 - true_negatives_22: 18451.0000 - true_positives_22: 18454.0000 - val_loss: 0.6308 - val_accuracy: 0.8082 - val_auc_22: 0.8916 - val_precision_22: 0.8077 - val_recall_22: 0.8097 - val_true_negatives_22: 5218.0000 - val_true_positives_22: 5234.0000\n",
            "Epoch 6/20\n",
            "308/308 [==============================] - 54s 176ms/step - loss: 0.1473 - accuracy: 0.9435 - auc_22: 0.9862 - precision_22: 0.9435 - recall_22: 0.9428 - true_negatives_22: 18541.0000 - true_positives_22: 18527.0000 - val_loss: 0.9898 - val_accuracy: 0.7622 - val_auc_22: 0.8346 - val_precision_22: 0.7633 - val_recall_22: 0.7613 - val_true_negatives_22: 4938.0000 - val_true_positives_22: 4921.0000\n",
            "Epoch 7/20\n",
            "308/308 [==============================] - 53s 173ms/step - loss: 0.1276 - accuracy: 0.9514 - auc_22: 0.9897 - precision_22: 0.9517 - recall_22: 0.9510 - true_negatives_22: 18702.0000 - true_positives_22: 18687.0000 - val_loss: 0.2555 - val_accuracy: 0.9152 - val_auc_22: 0.9687 - val_precision_22: 0.9145 - val_recall_22: 0.9165 - val_true_negatives_22: 5910.0000 - val_true_positives_22: 5924.0000\n",
            "Epoch 8/20\n",
            "308/308 [==============================] - 54s 174ms/step - loss: 0.1201 - accuracy: 0.9539 - auc_22: 0.9907 - precision_22: 0.9534 - recall_22: 0.9535 - true_negatives_22: 18734.0000 - true_positives_22: 18737.0000 - val_loss: 0.3066 - val_accuracy: 0.9055 - val_auc_22: 0.9630 - val_precision_22: 0.9057 - val_recall_22: 0.9052 - val_true_negatives_22: 5855.0000 - val_true_positives_22: 5851.0000\n",
            "Epoch 9/20\n",
            "308/308 [==============================] - 54s 174ms/step - loss: 0.1116 - accuracy: 0.9585 - auc_22: 0.9920 - precision_22: 0.9586 - recall_22: 0.9582 - true_negatives_22: 18836.0000 - true_positives_22: 18828.0000 - val_loss: 0.2341 - val_accuracy: 0.9101 - val_auc_22: 0.9711 - val_precision_22: 0.9120 - val_recall_22: 0.9087 - val_true_negatives_22: 5897.0000 - val_true_positives_22: 5874.0000\n",
            "Epoch 10/20\n",
            "308/308 [==============================] - 53s 173ms/step - loss: 0.1016 - accuracy: 0.9618 - auc_22: 0.9932 - precision_22: 0.9615 - recall_22: 0.9616 - true_negatives_22: 18894.0000 - true_positives_22: 18896.0000 - val_loss: 0.2396 - val_accuracy: 0.9180 - val_auc_22: 0.9734 - val_precision_22: 0.9182 - val_recall_22: 0.9165 - val_true_negatives_22: 5936.0000 - val_true_positives_22: 5924.0000\n",
            "Epoch 11/20\n",
            "308/308 [==============================] - 54s 174ms/step - loss: 0.1011 - accuracy: 0.9614 - auc_22: 0.9929 - precision_22: 0.9617 - recall_22: 0.9613 - true_negatives_22: 18897.0000 - true_positives_22: 18890.0000 - val_loss: 0.1577 - val_accuracy: 0.9451 - val_auc_22: 0.9852 - val_precision_22: 0.9460 - val_recall_22: 0.9440 - val_true_negatives_22: 6116.0000 - val_true_positives_22: 6102.0000\n",
            "Epoch 12/20\n",
            "308/308 [==============================] - 53s 172ms/step - loss: 0.0969 - accuracy: 0.9645 - auc_22: 0.9936 - precision_22: 0.9649 - recall_22: 0.9643 - true_negatives_22: 18960.0000 - true_positives_22: 18949.0000 - val_loss: 0.2816 - val_accuracy: 0.9131 - val_auc_22: 0.9656 - val_precision_22: 0.9133 - val_recall_22: 0.9148 - val_true_negatives_22: 5903.0000 - val_true_positives_22: 5913.0000\n",
            "Epoch 13/20\n",
            "308/308 [==============================] - 54s 175ms/step - loss: 0.0892 - accuracy: 0.9671 - auc_22: 0.9946 - precision_22: 0.9673 - recall_22: 0.9673 - true_negatives_22: 19007.0000 - true_positives_22: 19008.0000 - val_loss: 0.1654 - val_accuracy: 0.9377 - val_auc_22: 0.9849 - val_precision_22: 0.9392 - val_recall_22: 0.9375 - val_true_negatives_22: 6072.0000 - val_true_positives_22: 6060.0000\n",
            "Epoch 14/20\n",
            "308/308 [==============================] - 53s 174ms/step - loss: 0.0816 - accuracy: 0.9693 - auc_22: 0.9955 - precision_22: 0.9692 - recall_22: 0.9692 - true_negatives_22: 19044.0000 - true_positives_22: 19044.0000 - val_loss: 0.1671 - val_accuracy: 0.9449 - val_auc_22: 0.9846 - val_precision_22: 0.9453 - val_recall_22: 0.9438 - val_true_negatives_22: 6111.0000 - val_true_positives_22: 6101.0000\n",
            "Epoch 15/20\n",
            "308/308 [==============================] - 54s 174ms/step - loss: 0.0794 - accuracy: 0.9699 - auc_22: 0.9957 - precision_22: 0.9700 - recall_22: 0.9696 - true_negatives_22: 19060.0000 - true_positives_22: 19052.0000 - val_loss: 0.3576 - val_accuracy: 0.8934 - val_auc_22: 0.9524 - val_precision_22: 0.8942 - val_recall_22: 0.8922 - val_true_negatives_22: 5782.0000 - val_true_positives_22: 5767.0000\n",
            "Epoch 16/20\n",
            "308/308 [==============================] - 54s 175ms/step - loss: 0.0779 - accuracy: 0.9729 - auc_22: 0.9954 - precision_22: 0.9727 - recall_22: 0.9725 - true_negatives_22: 19113.0000 - true_positives_22: 19109.0000 - val_loss: 0.2128 - val_accuracy: 0.9361 - val_auc_22: 0.9773 - val_precision_22: 0.9358 - val_recall_22: 0.9364 - val_true_negatives_22: 6049.0000 - val_true_positives_22: 6053.0000\n",
            "Epoch 17/20\n",
            "308/308 [==============================] - 54s 174ms/step - loss: 0.0651 - accuracy: 0.9736 - auc_22: 0.9973 - precision_22: 0.9738 - recall_22: 0.9735 - true_negatives_22: 19136.0000 - true_positives_22: 19129.0000 - val_loss: 0.2410 - val_accuracy: 0.9216 - val_auc_22: 0.9728 - val_precision_22: 0.9215 - val_recall_22: 0.9209 - val_true_negatives_22: 5957.0000 - val_true_positives_22: 5953.0000\n",
            "Epoch 18/20\n",
            "308/308 [==============================] - 54s 174ms/step - loss: 0.0687 - accuracy: 0.9744 - auc_22: 0.9968 - precision_22: 0.9745 - recall_22: 0.9741 - true_negatives_22: 19150.0000 - true_positives_22: 19142.0000 - val_loss: 0.4086 - val_accuracy: 0.8846 - val_auc_22: 0.9436 - val_precision_22: 0.8847 - val_recall_22: 0.8834 - val_true_negatives_22: 5720.0000 - val_true_positives_22: 5710.0000\n",
            "Epoch 19/20\n",
            "308/308 [==============================] - 54s 174ms/step - loss: 0.0654 - accuracy: 0.9751 - auc_22: 0.9971 - precision_22: 0.9749 - recall_22: 0.9751 - true_negatives_22: 19156.0000 - true_positives_22: 19160.0000 - val_loss: 0.3590 - val_accuracy: 0.9132 - val_auc_22: 0.9604 - val_precision_22: 0.9141 - val_recall_22: 0.9124 - val_true_negatives_22: 5910.0000 - val_true_positives_22: 5898.0000\n",
            "Epoch 20/20\n",
            "308/308 [==============================] - 53s 173ms/step - loss: 0.0661 - accuracy: 0.9760 - auc_22: 0.9968 - precision_22: 0.9759 - recall_22: 0.9760 - true_negatives_22: 19177.0000 - true_positives_22: 19178.0000 - val_loss: 0.2882 - val_accuracy: 0.9072 - val_auc_22: 0.9624 - val_precision_22: 0.9067 - val_recall_22: 0.9067 - val_true_negatives_22: 5861.0000 - val_true_positives_22: 5861.0000\n",
            "Total training time = 1360.310940027237s\n"
          ]
        },
        {
          "output_type": "stream",
          "name": "stderr",
          "text": [
            "/usr/local/lib/python3.7/dist-packages/keras/engine/functional.py:1410: CustomMaskWarning: Custom mask layers require a config and must override get_config. When loading, the custom mask layer must be passed to the custom_objects argument.\n",
            "  layer_config = serialize_layer_fn(layer)\n"
          ]
        },
        {
          "output_type": "stream",
          "name": "stdout",
          "text": [
            "103/103 [==============================] - 2s 22ms/step - loss: 0.3609 - accuracy: 0.8898 - auc_22: 0.9493 - precision_22: 0.8891 - recall_22: 0.8904 - true_negatives_22: 5826.0000 - true_positives_22: 5836.0000\n"
          ]
        },
        {
          "output_type": "display_data",
          "data": {
            "image/png": "[encoded data removed]",
            "text/plain": [
              "<Figure size 432x288 with 1 Axes>"
            ]
          },
          "metadata": {
            "needs_background": "light"
          }
        },
        {
          "output_type": "display_data",
          "data": {
            "image/png": "[encoded data removed]",
            "text/plain": [
              "<Figure size 432x288 with 1 Axes>"
            ]
          },
          "metadata": {
            "needs_background": "light"
          }
        }
      ]
    },
    {
      "cell_type": "markdown",
      "metadata": {
        "id": "nT55iEntJuwO",
        "tags": []
      },
      "source": [
        "# Evaluation"
      ]
    },
    {
      "cell_type": "code",
      "metadata": {
        "id": "eDq7TxWW-fRm"
      },
      "source": [
        "# base + top 4\n",
        "m0 = mobileNet2NN\n",
        "m3 = relu_mobileNet2\n",
        "m2 = elu_mobileNet2\n",
        "m6 = relu_mobileNet2_lstm\n",
        "m7 = elu_mobileNet2_lstm\n",
        "e1 = ensembling\n",
        "\n",
        "model_list = [m0, m3, m2, m6, m7, e1]"
      ],
      "execution_count": null,
      "outputs": []
    },
    {
      "cell_type": "code",
      "metadata": {
        "colab": {
          "base_uri": "https://localhost:8080/"
        },
        "id": "93KYvmaZPRRw",
        "outputId": "a381128e-c8d1-43ae-bf25-9d3c84e1ae38"
      },
      "source": [
        "m0_mx = [loss, accuracy, auc, precision, recall, tn, tp] = m0.evaluate(test_generator)\n",
        "m3_mx = [loss, accuracy, auc, precision, recall, tn, tp] = m3.evaluate(test_generator)\n",
        "m2_mx = [loss, accuracy, auc, precision, recall, tn, tp] = m2.evaluate(test_generator)\n",
        "m6_mx = [loss, accuracy, auc, precision, recall, tn, tp] = m6.evaluate(test_generator)\n",
        "m7_mx = [loss, accuracy, auc, precision, recall, tn, tp] = m7.evaluate(test_generator)\n",
        "e1_mx = [loss, accuracy, auc, precision, recall, tn, tp] = e1.evaluate(test_generator)"
      ],
      "execution_count": null,
      "outputs": [
        {
          "output_type": "stream",
          "name": "stdout",
          "text": [
            "103/103 [==============================] - 2s 22ms/step - loss: 0.5313 - accuracy: 0.7507 - auc_14: 0.8407 - precision_14: 0.7511 - recall_14: 0.7489 - true_negatives_14: 4928.0000 - true_positives_14: 4908.0000\n",
            "103/103 [==============================] - 2s 21ms/step - loss: 0.3609 - accuracy: 0.8898 - auc_22: 0.9493 - precision_22: 0.8891 - recall_22: 0.8904 - true_negatives_22: 5826.0000 - true_positives_22: 5836.0000\n",
            "103/103 [==============================] - 2s 22ms/step - loss: 0.2412 - accuracy: 0.9011 - auc_21: 0.9652 - precision_21: 0.8992 - recall_21: 0.9007 - true_negatives_21: 5892.0000 - true_positives_21: 5903.0000\n",
            "103/103 [==============================] - 6s 58ms/step - loss: 0.3328 - accuracy: 0.8589 - auc_1: 0.9349 - precision_1: 0.8589 - recall_1: 0.8592 - true_negatives_1: 5629.0000 - true_positives_1: 5631.0000\n",
            "103/103 [==============================] - 6s 60ms/step - loss: 0.3036 - accuracy: 0.8715 - auc_2: 0.9440 - precision_2: 0.8709 - recall_2: 0.8731 - true_negatives_2: 5706.0000 - true_positives_2: 5722.0000\n",
            "103/103 [==============================] - 14s 133ms/step - loss: 0.2077 - accuracy: 0.9371 - auc_16: 0.9808 - precision_16: 0.9381 - recall_16: 0.9368 - true_negatives_16: 6149.0000 - true_positives_16: 6140.0000\n"
          ]
        }
      ]
    }
  ]
}